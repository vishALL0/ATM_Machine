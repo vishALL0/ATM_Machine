{
 "cells": [
  {
   "cell_type": "code",
   "execution_count": 29,
   "id": "b0877acf",
   "metadata": {},
   "outputs": [],
   "source": [
    "class Atm():\n",
    "    def __init__(self):\n",
    "        self.__pin=\"\"\n",
    "        self.__balance=0\n",
    "        self.__menu()\n",
    "   \n",
    "        \n",
    "    def __menu(self):\n",
    "        user_input=input('''\n",
    "                     hello how would help you \n",
    "                     1- enter 1 to create pin\n",
    "                     2- enter 2 to deposit\n",
    "                     3- enter 3 to withdraw \n",
    "                     4- enter 4 to check balance\n",
    "                     5- enter 5 to exit\n",
    "                     ''')\n",
    "        if user_input=='1':\n",
    "            self.create_pin()\n",
    "        elif user_input=='2':\n",
    "            self.deposit()\n",
    "        elif user_input=='3':\n",
    "            self.__withdraw()\n",
    "        elif user_input=='4':\n",
    "            self.check_balance()\n",
    "        else:\n",
    "            print(\"have  a good day\")\n",
    "    def create_pin(self):\n",
    "        self.__pin=input(\"enter your pin\")\n",
    "        print(\"Pin set successfully\")\n",
    "    def deposit(self):\n",
    "        temp=input(\"enter your pin\")\n",
    "        if temp==self.__pin:\n",
    "            amount=int(input(\"enter the amount\"))\n",
    "            self.__balance=self.__balance+amount\n",
    "            print(\"deposit succesfully\")\n",
    "        else:\n",
    "            print(\"Invalid pin, try again\")\n",
    "    def withdraw(self):\n",
    "        temp=input(\"enter your pin\")\n",
    "        if temp==self.__pin:\n",
    "            amount=int(input(\"enter the amount\"))\n",
    "            if amount < self.__balance:\n",
    "                self.__balance=self.__balance-amount\n",
    "                print(\"operation sucsessful\")\n",
    "            else:\n",
    "                print(\"insufficiant balance\")\n",
    "        else:\n",
    "            print(\"invalid pin\")\n",
    "    def check_balance(self):\n",
    "        temp=input(\"enter your pin\")\n",
    "        if temp==self.__pin:\n",
    "            print(self.__balance)\n",
    "        else:\n",
    "            print(\"Invalid pin, try again\")\n",
    "        "
   ]
  },
  {
   "cell_type": "code",
   "execution_count": 22,
   "id": "7387bc2d",
   "metadata": {},
   "outputs": [
    {
     "name": "stdout",
     "output_type": "stream",
     "text": [
      "\n",
      "                     hello how would help you \n",
      "                     1- enter 1 to create pin\n",
      "                     2- enter 2 to deposit\n",
      "                     3- enter 3 to withdraw \n",
      "                     4- enter 4 to check balance\n",
      "                     5- enter 5 to exit\n",
      "                     1\n",
      "enter your pin1234\n",
      "Pin set successfully\n"
     ]
    }
   ],
   "source": [
    "sbi=Atm()\n"
   ]
  },
  {
   "cell_type": "code",
   "execution_count": 15,
   "id": "e95b675d",
   "metadata": {},
   "outputs": [
    {
     "name": "stdout",
     "output_type": "stream",
     "text": [
      "enter your pin1234\n",
      "enter the amount900000\n",
      "deposit succesfully\n"
     ]
    }
   ],
   "source": [
    "sbi.deposit()"
   ]
  },
  {
   "cell_type": "code",
   "execution_count": 16,
   "id": "a5131a6a",
   "metadata": {},
   "outputs": [
    {
     "name": "stdout",
     "output_type": "stream",
     "text": [
      "enter your pin1234\n",
      "900000\n"
     ]
    }
   ],
   "source": [
    "sbi.check_balance()"
   ]
  },
  {
   "cell_type": "code",
   "execution_count": 17,
   "id": "005a4e04",
   "metadata": {},
   "outputs": [
    {
     "name": "stdout",
     "output_type": "stream",
     "text": [
      "enter your pin1234\n",
      "enter the amount67000\n",
      "deposit succesfully\n"
     ]
    }
   ],
   "source": [
    "sbi.deposit()"
   ]
  },
  {
   "cell_type": "code",
   "execution_count": 18,
   "id": "4a64fbbf",
   "metadata": {},
   "outputs": [
    {
     "name": "stdout",
     "output_type": "stream",
     "text": [
      "enter your pin1234\n",
      "967000\n"
     ]
    }
   ],
   "source": [
    "sbi.check_balance()"
   ]
  },
  {
   "cell_type": "code",
   "execution_count": 19,
   "id": "ce6c150f",
   "metadata": {},
   "outputs": [
    {
     "name": "stdout",
     "output_type": "stream",
     "text": [
      "enter your pin1234\n",
      "enter the amount90000\n",
      "operation sucsessful\n"
     ]
    }
   ],
   "source": [
    "sbi.withdraw()"
   ]
  },
  {
   "cell_type": "code",
   "execution_count": 20,
   "id": "3b0c7cd9",
   "metadata": {},
   "outputs": [
    {
     "name": "stdout",
     "output_type": "stream",
     "text": [
      "enter your pin1234\n",
      "877000\n"
     ]
    }
   ],
   "source": [
    "sbi.check_balance()"
   ]
  }
 ],
 "metadata": {
  "kernelspec": {
   "display_name": "Python 3 (ipykernel)",
   "language": "python",
   "name": "python3"
  },
  "language_info": {
   "codemirror_mode": {
    "name": "ipython",
    "version": 3
   },
   "file_extension": ".py",
   "mimetype": "text/x-python",
   "name": "python",
   "nbconvert_exporter": "python",
   "pygments_lexer": "ipython3",
   "version": "3.9.7"
  }
 },
 "nbformat": 4,
 "nbformat_minor": 5
}
